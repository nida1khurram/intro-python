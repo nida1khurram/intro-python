{
 "cells": [
  {
   "cell_type": "markdown",
   "metadata": {},
   "source": []
  },
  {
   "cell_type": "code",
   "execution_count": 2,
   "metadata": {},
   "outputs": [
    {
     "name": "stdout",
     "output_type": "stream",
     "text": [
      "This program asks the user for their favorite animal and responds accordingly.\n",
      "My favorite animal is also cat!\n"
     ]
    }
   ],
   "source": [
    "def fav_animal():\n",
    "    # Function description\n",
    "    print(\"This program asks the user for their favorite animal and responds accordingly.\")\n",
    "    \n",
    "    # User se favorite animal input lena\n",
    "    user: str = input(\"What's your favorite animal? \")  # Space after prompt\n",
    "    return user\n",
    "\n",
    "# Function ko call karna aur result print karna\n",
    "animal = fav_animal()\n",
    "print(f\"My favorite animal is also {animal}!\")"
   ]
  }
 ],
 "metadata": {
  "kernelspec": {
   "display_name": "python12",
   "language": "python",
   "name": "python3"
  },
  "language_info": {
   "codemirror_mode": {
    "name": "ipython",
    "version": 3
   },
   "file_extension": ".py",
   "mimetype": "text/x-python",
   "name": "python",
   "nbconvert_exporter": "python",
   "pygments_lexer": "ipython3",
   "version": "3.12.0"
  }
 },
 "nbformat": 4,
 "nbformat_minor": 2
}
