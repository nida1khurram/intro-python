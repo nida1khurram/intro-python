{
 "cells": [
  {
   "cell_type": "markdown",
   "metadata": {},
   "source": [
    "Add two float no"
   ]
  },
  {
   "cell_type": "code",
   "execution_count": 7,
   "metadata": {},
   "outputs": [
    {
     "name": "stdout",
     "output_type": "stream",
     "text": [
      "sum: 6.6\n"
     ]
    }
   ],
   "source": [
    "# User se pehla number input lena\n",
    "num1 = float(input(\"input first no: \"))\n",
    "\n",
    "# User se dusra number input lena\n",
    "num2 = float(input(\"input 2 no: \"))\n",
    "\n",
    "# Dono numbers ko add karna\n",
    "result = num1 + num2\n",
    "\n",
    "# Result ko print karna\n",
    "print(\"sum:\", result)"
   ]
  },
  {
   "cell_type": "markdown",
   "metadata": {},
   "source": [
    "Add two int"
   ]
  },
  {
   "cell_type": "code",
   "execution_count": 6,
   "metadata": {},
   "outputs": [
    {
     "name": "stdout",
     "output_type": "stream",
     "text": [
      "sum: 12\n",
      "<class 'int'>\n"
     ]
    }
   ],
   "source": [
    "# User se pehla number input lena\n",
    "num1 = int(input(\"input first no: \"))\n",
    "# User se dusra number input lena\n",
    "num2 = int(input(\"input 2 no: \"))\n",
    "# Dono numbers ko add karna\n",
    "result = num1 + num2\n",
    "\n",
    "# Result ko print karna\n",
    "print(\"sum:\", result)\n",
    "print(type(result))"
   ]
  },
  {
   "cell_type": "markdown",
   "metadata": {},
   "source": [
    "Function  add two nunmbers"
   ]
  },
  {
   "cell_type": "code",
   "execution_count": 5,
   "metadata": {},
   "outputs": [
    {
     "name": "stdout",
     "output_type": "stream",
     "text": [
      "This program adds two numbers.\n",
      "The result is: 7\n"
     ]
    }
   ],
   "source": [
    "def main():\n",
    "    print(\"This program adds two numbers.\")\n",
    "    num1 = int(input(\"Enter first number: \"))  # Directly convert input to int\n",
    "    num2 = int(input(\"Enter second number: \"))  # Directly convert input to int\n",
    "    total = num1 + num2\n",
    "    return total\n",
    "\n",
    "# Function ko call karna aur result print karna\n",
    "sum_result = main()\n",
    "print(f\"The result is: {sum_result}\")"
   ]
  }
 ],
 "metadata": {
  "kernelspec": {
   "display_name": "python12",
   "language": "python",
   "name": "python3"
  },
  "language_info": {
   "codemirror_mode": {
    "name": "ipython",
    "version": 3
   },
   "file_extension": ".py",
   "mimetype": "text/x-python",
   "name": "python",
   "nbconvert_exporter": "python",
   "pygments_lexer": "ipython3",
   "version": "3.12.0"
  }
 },
 "nbformat": 4,
 "nbformat_minor": 2
}
